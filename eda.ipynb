{
 "cells": [
  {
   "cell_type": "markdown",
   "id": "11f035cb-b401-4ef8-8b8b-07d409841ca6",
   "metadata": {},
   "source": [
    "Test for DS Module 3 course."
   ]
  },
  {
   "cell_type": "code",
   "execution_count": null,
   "id": "065b9c43-5cac-4937-9d45-4b1cdea69dcb",
   "metadata": {},
   "outputs": [],
   "source": []
  }
 ],
 "metadata": {
  "kernelspec": {
   "display_name": "Python 3 (ipykernel)",
   "language": "python",
   "name": "python3"
  },
  "language_info": {
   "codemirror_mode": {
    "name": "ipython",
    "version": 3
   },
   "file_extension": ".py",
   "mimetype": "text/x-python",
   "name": "python",
   "nbconvert_exporter": "python",
   "pygments_lexer": "ipython3",
   "version": "3.12.2"
  }
 },
 "nbformat": 4,
 "nbformat_minor": 5
}
